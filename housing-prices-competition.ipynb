{
 "cells": [
  {
   "cell_type": "code",
   "execution_count": 1,
   "id": "ffb6e7d3",
   "metadata": {
    "_cell_guid": "b1076dfc-b9ad-4769-8c92-a6c4dae69d19",
    "_uuid": "8f2839f25d086af736a60e9eeb907d3b93b6e0e5",
    "execution": {
     "iopub.execute_input": "2022-06-06T16:17:58.459671Z",
     "iopub.status.busy": "2022-06-06T16:17:58.458995Z",
     "iopub.status.idle": "2022-06-06T16:17:58.474056Z",
     "shell.execute_reply": "2022-06-06T16:17:58.472878Z"
    },
    "papermill": {
     "duration": 0.034316,
     "end_time": "2022-06-06T16:17:58.477197",
     "exception": false,
     "start_time": "2022-06-06T16:17:58.442881",
     "status": "completed"
    },
    "tags": []
   },
   "outputs": [
    {
     "name": "stdout",
     "output_type": "stream",
     "text": [
      "/kaggle/input/house-prices-advanced-regression-techniques/sample_submission.csv\n",
      "/kaggle/input/house-prices-advanced-regression-techniques/data_description.txt\n",
      "/kaggle/input/house-prices-advanced-regression-techniques/train.csv\n",
      "/kaggle/input/house-prices-advanced-regression-techniques/test.csv\n"
     ]
    }
   ],
   "source": [
    "# This Python 3 environment comes with many helpful analytics libraries installed\n",
    "# It is defined by the kaggle/python Docker image: https://github.com/kaggle/docker-python\n",
    "# For example, here's several helpful packages to load\n",
    "\n",
    "import numpy as np # linear algebra\n",
    "import pandas as pd # data processing, CSV file I/O (e.g. pd.read_csv)\n",
    "\n",
    "# Input data files are available in the read-only \"../input/\" directory\n",
    "# For example, running this (by clicking run or pressing Shift+Enter) will list all files under the input directory\n",
    "\n",
    "import os\n",
    "for dirname, _, filenames in os.walk('/kaggle/input'):\n",
    "    for filename in filenames:\n",
    "        print(os.path.join(dirname, filename))\n",
    "\n",
    "# You can write up to 20GB to the current directory (/kaggle/working/) that gets preserved as output when you create a version using \"Save & Run All\" \n",
    "# You can also write temporary files to /kaggle/temp/, but they won't be saved outside of the current session"
   ]
  },
  {
   "cell_type": "code",
   "execution_count": 2,
   "id": "cd2b03fa",
   "metadata": {
    "execution": {
     "iopub.execute_input": "2022-06-06T16:17:58.504278Z",
     "iopub.status.busy": "2022-06-06T16:17:58.503591Z",
     "iopub.status.idle": "2022-06-06T16:17:59.884706Z",
     "shell.execute_reply": "2022-06-06T16:17:59.883705Z"
    },
    "papermill": {
     "duration": 1.397269,
     "end_time": "2022-06-06T16:17:59.887314",
     "exception": false,
     "start_time": "2022-06-06T16:17:58.490045",
     "status": "completed"
    },
    "tags": []
   },
   "outputs": [],
   "source": [
    "import matplotlib.pyplot as plt\n",
    "import seaborn as sns\n",
    "import warnings\n",
    "warnings.filterwarnings('ignore')"
   ]
  },
  {
   "cell_type": "code",
   "execution_count": 3,
   "id": "ab9c70fa",
   "metadata": {
    "execution": {
     "iopub.execute_input": "2022-06-06T16:17:59.915264Z",
     "iopub.status.busy": "2022-06-06T16:17:59.914343Z",
     "iopub.status.idle": "2022-06-06T16:18:00.070132Z",
     "shell.execute_reply": "2022-06-06T16:18:00.069139Z"
    },
    "papermill": {
     "duration": 0.173013,
     "end_time": "2022-06-06T16:18:00.072321",
     "exception": false,
     "start_time": "2022-06-06T16:17:59.899308",
     "status": "completed"
    },
    "tags": []
   },
   "outputs": [
    {
     "data": {
      "text/html": [
       "<div>\n",
       "<style scoped>\n",
       "    .dataframe tbody tr th:only-of-type {\n",
       "        vertical-align: middle;\n",
       "    }\n",
       "\n",
       "    .dataframe tbody tr th {\n",
       "        vertical-align: top;\n",
       "    }\n",
       "\n",
       "    .dataframe thead th {\n",
       "        text-align: right;\n",
       "    }\n",
       "</style>\n",
       "<table border=\"1\" class=\"dataframe\">\n",
       "  <thead>\n",
       "    <tr style=\"text-align: right;\">\n",
       "      <th></th>\n",
       "      <th>MSSubClass</th>\n",
       "      <th>MSZoning</th>\n",
       "      <th>LotFrontage</th>\n",
       "      <th>LotArea</th>\n",
       "      <th>Street</th>\n",
       "      <th>Alley</th>\n",
       "      <th>LotShape</th>\n",
       "      <th>LandContour</th>\n",
       "      <th>Utilities</th>\n",
       "      <th>LotConfig</th>\n",
       "      <th>...</th>\n",
       "      <th>PoolArea</th>\n",
       "      <th>PoolQC</th>\n",
       "      <th>Fence</th>\n",
       "      <th>MiscFeature</th>\n",
       "      <th>MiscVal</th>\n",
       "      <th>MoSold</th>\n",
       "      <th>YrSold</th>\n",
       "      <th>SaleType</th>\n",
       "      <th>SaleCondition</th>\n",
       "      <th>SalePrice</th>\n",
       "    </tr>\n",
       "    <tr>\n",
       "      <th>Id</th>\n",
       "      <th></th>\n",
       "      <th></th>\n",
       "      <th></th>\n",
       "      <th></th>\n",
       "      <th></th>\n",
       "      <th></th>\n",
       "      <th></th>\n",
       "      <th></th>\n",
       "      <th></th>\n",
       "      <th></th>\n",
       "      <th></th>\n",
       "      <th></th>\n",
       "      <th></th>\n",
       "      <th></th>\n",
       "      <th></th>\n",
       "      <th></th>\n",
       "      <th></th>\n",
       "      <th></th>\n",
       "      <th></th>\n",
       "      <th></th>\n",
       "      <th></th>\n",
       "    </tr>\n",
       "  </thead>\n",
       "  <tbody>\n",
       "    <tr>\n",
       "      <th>1</th>\n",
       "      <td>60</td>\n",
       "      <td>RL</td>\n",
       "      <td>65.0</td>\n",
       "      <td>8450</td>\n",
       "      <td>Pave</td>\n",
       "      <td>NaN</td>\n",
       "      <td>Reg</td>\n",
       "      <td>Lvl</td>\n",
       "      <td>AllPub</td>\n",
       "      <td>Inside</td>\n",
       "      <td>...</td>\n",
       "      <td>0</td>\n",
       "      <td>NaN</td>\n",
       "      <td>NaN</td>\n",
       "      <td>NaN</td>\n",
       "      <td>0</td>\n",
       "      <td>2</td>\n",
       "      <td>2008</td>\n",
       "      <td>WD</td>\n",
       "      <td>Normal</td>\n",
       "      <td>208500.0</td>\n",
       "    </tr>\n",
       "    <tr>\n",
       "      <th>2</th>\n",
       "      <td>20</td>\n",
       "      <td>RL</td>\n",
       "      <td>80.0</td>\n",
       "      <td>9600</td>\n",
       "      <td>Pave</td>\n",
       "      <td>NaN</td>\n",
       "      <td>Reg</td>\n",
       "      <td>Lvl</td>\n",
       "      <td>AllPub</td>\n",
       "      <td>FR2</td>\n",
       "      <td>...</td>\n",
       "      <td>0</td>\n",
       "      <td>NaN</td>\n",
       "      <td>NaN</td>\n",
       "      <td>NaN</td>\n",
       "      <td>0</td>\n",
       "      <td>5</td>\n",
       "      <td>2007</td>\n",
       "      <td>WD</td>\n",
       "      <td>Normal</td>\n",
       "      <td>181500.0</td>\n",
       "    </tr>\n",
       "    <tr>\n",
       "      <th>3</th>\n",
       "      <td>60</td>\n",
       "      <td>RL</td>\n",
       "      <td>68.0</td>\n",
       "      <td>11250</td>\n",
       "      <td>Pave</td>\n",
       "      <td>NaN</td>\n",
       "      <td>IR1</td>\n",
       "      <td>Lvl</td>\n",
       "      <td>AllPub</td>\n",
       "      <td>Inside</td>\n",
       "      <td>...</td>\n",
       "      <td>0</td>\n",
       "      <td>NaN</td>\n",
       "      <td>NaN</td>\n",
       "      <td>NaN</td>\n",
       "      <td>0</td>\n",
       "      <td>9</td>\n",
       "      <td>2008</td>\n",
       "      <td>WD</td>\n",
       "      <td>Normal</td>\n",
       "      <td>223500.0</td>\n",
       "    </tr>\n",
       "    <tr>\n",
       "      <th>4</th>\n",
       "      <td>70</td>\n",
       "      <td>RL</td>\n",
       "      <td>60.0</td>\n",
       "      <td>9550</td>\n",
       "      <td>Pave</td>\n",
       "      <td>NaN</td>\n",
       "      <td>IR1</td>\n",
       "      <td>Lvl</td>\n",
       "      <td>AllPub</td>\n",
       "      <td>Corner</td>\n",
       "      <td>...</td>\n",
       "      <td>0</td>\n",
       "      <td>NaN</td>\n",
       "      <td>NaN</td>\n",
       "      <td>NaN</td>\n",
       "      <td>0</td>\n",
       "      <td>2</td>\n",
       "      <td>2006</td>\n",
       "      <td>WD</td>\n",
       "      <td>Abnorml</td>\n",
       "      <td>140000.0</td>\n",
       "    </tr>\n",
       "    <tr>\n",
       "      <th>5</th>\n",
       "      <td>60</td>\n",
       "      <td>RL</td>\n",
       "      <td>84.0</td>\n",
       "      <td>14260</td>\n",
       "      <td>Pave</td>\n",
       "      <td>NaN</td>\n",
       "      <td>IR1</td>\n",
       "      <td>Lvl</td>\n",
       "      <td>AllPub</td>\n",
       "      <td>FR2</td>\n",
       "      <td>...</td>\n",
       "      <td>0</td>\n",
       "      <td>NaN</td>\n",
       "      <td>NaN</td>\n",
       "      <td>NaN</td>\n",
       "      <td>0</td>\n",
       "      <td>12</td>\n",
       "      <td>2008</td>\n",
       "      <td>WD</td>\n",
       "      <td>Normal</td>\n",
       "      <td>250000.0</td>\n",
       "    </tr>\n",
       "  </tbody>\n",
       "</table>\n",
       "<p>5 rows × 80 columns</p>\n",
       "</div>"
      ],
      "text/plain": [
       "    MSSubClass MSZoning  LotFrontage  LotArea Street Alley LotShape  \\\n",
       "Id                                                                    \n",
       "1           60       RL         65.0     8450   Pave   NaN      Reg   \n",
       "2           20       RL         80.0     9600   Pave   NaN      Reg   \n",
       "3           60       RL         68.0    11250   Pave   NaN      IR1   \n",
       "4           70       RL         60.0     9550   Pave   NaN      IR1   \n",
       "5           60       RL         84.0    14260   Pave   NaN      IR1   \n",
       "\n",
       "   LandContour Utilities LotConfig  ... PoolArea PoolQC Fence MiscFeature  \\\n",
       "Id                                  ...                                     \n",
       "1          Lvl    AllPub    Inside  ...        0    NaN   NaN         NaN   \n",
       "2          Lvl    AllPub       FR2  ...        0    NaN   NaN         NaN   \n",
       "3          Lvl    AllPub    Inside  ...        0    NaN   NaN         NaN   \n",
       "4          Lvl    AllPub    Corner  ...        0    NaN   NaN         NaN   \n",
       "5          Lvl    AllPub       FR2  ...        0    NaN   NaN         NaN   \n",
       "\n",
       "   MiscVal MoSold  YrSold  SaleType  SaleCondition  SalePrice  \n",
       "Id                                                             \n",
       "1        0      2    2008        WD         Normal   208500.0  \n",
       "2        0      5    2007        WD         Normal   181500.0  \n",
       "3        0      9    2008        WD         Normal   223500.0  \n",
       "4        0      2    2006        WD        Abnorml   140000.0  \n",
       "5        0     12    2008        WD         Normal   250000.0  \n",
       "\n",
       "[5 rows x 80 columns]"
      ]
     },
     "execution_count": 3,
     "metadata": {},
     "output_type": "execute_result"
    }
   ],
   "source": [
    "\n",
    "df_train = pd.read_csv('../input/house-prices-advanced-regression-techniques/train.csv',index_col='Id')\n",
    "df_test = pd.read_csv('../input/house-prices-advanced-regression-techniques/test.csv',index_col='Id')\n",
    "\n",
    "df = pd.concat([df_train, df_test], axis=0)\n",
    "df.head()"
   ]
  },
  {
   "cell_type": "code",
   "execution_count": 4,
   "id": "60982252",
   "metadata": {
    "execution": {
     "iopub.execute_input": "2022-06-06T16:18:00.099357Z",
     "iopub.status.busy": "2022-06-06T16:18:00.098869Z",
     "iopub.status.idle": "2022-06-06T16:18:00.126966Z",
     "shell.execute_reply": "2022-06-06T16:18:00.125915Z"
    },
    "papermill": {
     "duration": 0.044679,
     "end_time": "2022-06-06T16:18:00.129330",
     "exception": false,
     "start_time": "2022-06-06T16:18:00.084651",
     "status": "completed"
    },
    "tags": []
   },
   "outputs": [
    {
     "data": {
      "text/plain": [
       "MSSubClass          0\n",
       "Heating             0\n",
       "SaleCondition       0\n",
       "CentralAir          0\n",
       "1stFlrSF            0\n",
       "                 ... \n",
       "SalePrice        1459\n",
       "Fence            2348\n",
       "Alley            2721\n",
       "MiscFeature      2814\n",
       "PoolQC           2909\n",
       "Length: 80, dtype: int64"
      ]
     },
     "execution_count": 4,
     "metadata": {},
     "output_type": "execute_result"
    }
   ],
   "source": [
    "df.isnull().sum().sort_values()"
   ]
  },
  {
   "cell_type": "code",
   "execution_count": 5,
   "id": "159b7d60",
   "metadata": {
    "execution": {
     "iopub.execute_input": "2022-06-06T16:18:00.156391Z",
     "iopub.status.busy": "2022-06-06T16:18:00.155932Z",
     "iopub.status.idle": "2022-06-06T16:18:00.184892Z",
     "shell.execute_reply": "2022-06-06T16:18:00.183947Z"
    },
    "papermill": {
     "duration": 0.045605,
     "end_time": "2022-06-06T16:18:00.187281",
     "exception": false,
     "start_time": "2022-06-06T16:18:00.141676",
     "status": "completed"
    },
    "tags": []
   },
   "outputs": [
    {
     "data": {
      "text/plain": [
       "MSSubClass        0.000000\n",
       "Heating           0.000000\n",
       "SaleCondition     0.000000\n",
       "CentralAir        0.000000\n",
       "1stFlrSF          0.000000\n",
       "                   ...    \n",
       "SalePrice        49.982871\n",
       "Fence            80.438506\n",
       "Alley            93.216855\n",
       "MiscFeature      96.402878\n",
       "PoolQC           99.657417\n",
       "Length: 80, dtype: float64"
      ]
     },
     "execution_count": 5,
     "metadata": {},
     "output_type": "execute_result"
    }
   ],
   "source": [
    "(100*df.isnull().sum()/len(df)).sort_values()"
   ]
  },
  {
   "cell_type": "code",
   "execution_count": 6,
   "id": "3aaa4dff",
   "metadata": {
    "execution": {
     "iopub.execute_input": "2022-06-06T16:18:00.215437Z",
     "iopub.status.busy": "2022-06-06T16:18:00.214824Z",
     "iopub.status.idle": "2022-06-06T16:18:00.244272Z",
     "shell.execute_reply": "2022-06-06T16:18:00.242772Z"
    },
    "papermill": {
     "duration": 0.046657,
     "end_time": "2022-06-06T16:18:00.246672",
     "exception": false,
     "start_time": "2022-06-06T16:18:00.200015",
     "status": "completed"
    },
    "tags": []
   },
   "outputs": [
    {
     "data": {
      "text/plain": [
       "MSSubClass        0.000000\n",
       "Heating           0.000000\n",
       "SaleCondition     0.000000\n",
       "CentralAir        0.000000\n",
       "1stFlrSF          0.000000\n",
       "                   ...    \n",
       "SalePrice        49.982871\n",
       "Fence            80.438506\n",
       "Alley            93.216855\n",
       "MiscFeature      96.402878\n",
       "PoolQC           99.657417\n",
       "Length: 80, dtype: float64"
      ]
     },
     "execution_count": 6,
     "metadata": {},
     "output_type": "execute_result"
    }
   ],
   "source": [
    "(100*df.isnull().sum()/len(df)).sort_values()"
   ]
  },
  {
   "cell_type": "code",
   "execution_count": 7,
   "id": "bda96cfe",
   "metadata": {
    "execution": {
     "iopub.execute_input": "2022-06-06T16:18:00.274892Z",
     "iopub.status.busy": "2022-06-06T16:18:00.274028Z",
     "iopub.status.idle": "2022-06-06T16:18:00.279403Z",
     "shell.execute_reply": "2022-06-06T16:18:00.278555Z"
    },
    "papermill": {
     "duration": 0.022183,
     "end_time": "2022-06-06T16:18:00.281661",
     "exception": false,
     "start_time": "2022-06-06T16:18:00.259478",
     "status": "completed"
    },
    "tags": []
   },
   "outputs": [],
   "source": [
    "def percent_missing(df):\n",
    "    percent_nan = 100* df.isnull().sum() / len(df)\n",
    "    percent_nan = percent_nan[percent_nan>0].sort_values()\n",
    "    return percent_nan"
   ]
  },
  {
   "cell_type": "code",
   "execution_count": 8,
   "id": "483622c8",
   "metadata": {
    "execution": {
     "iopub.execute_input": "2022-06-06T16:18:00.310610Z",
     "iopub.status.busy": "2022-06-06T16:18:00.309836Z",
     "iopub.status.idle": "2022-06-06T16:18:00.334542Z",
     "shell.execute_reply": "2022-06-06T16:18:00.333640Z"
    },
    "papermill": {
     "duration": 0.041817,
     "end_time": "2022-06-06T16:18:00.336851",
     "exception": false,
     "start_time": "2022-06-06T16:18:00.295034",
     "status": "completed"
    },
    "tags": []
   },
   "outputs": [],
   "source": [
    "percent_nan = percent_missing(df)"
   ]
  },
  {
   "cell_type": "code",
   "execution_count": 9,
   "id": "f04d3487",
   "metadata": {
    "execution": {
     "iopub.execute_input": "2022-06-06T16:18:00.364662Z",
     "iopub.status.busy": "2022-06-06T16:18:00.363862Z",
     "iopub.status.idle": "2022-06-06T16:18:00.878513Z",
     "shell.execute_reply": "2022-06-06T16:18:00.877367Z"
    },
    "papermill": {
     "duration": 0.531835,
     "end_time": "2022-06-06T16:18:00.881218",
     "exception": false,
     "start_time": "2022-06-06T16:18:00.349383",
     "status": "completed"
    },
    "tags": []
   },
   "outputs": [
    {
     "data": {
      "text/plain": [
       "<AxesSubplot:>"
      ]
     },
     "execution_count": 9,
     "metadata": {},
     "output_type": "execute_result"
    },
    {
     "data": {
      "image/png": "[encoded data removed]",
      "text/plain": [
       "<Figure size 720x720 with 1 Axes>"
      ]
     },
     "metadata": {
      "needs_background": "light"
     },
     "output_type": "display_data"
    }
   ],
   "source": [
    "plt.figure(figsize=(10,10))\n",
    "sns.barplot(y=percent_nan.index,x=percent_nan)"
   ]
  },
  {
   "cell_type": "code",
   "execution_count": 10,
   "id": "89653262",
   "metadata": {
    "execution": {
     "iopub.execute_input": "2022-06-06T16:18:00.911322Z",
     "iopub.status.busy": "2022-06-06T16:18:00.910813Z",
     "iopub.status.idle": "2022-06-06T16:18:01.338312Z",
     "shell.execute_reply": "2022-06-06T16:18:01.337020Z"
    },
    "papermill": {
     "duration": 0.446268,
     "end_time": "2022-06-06T16:18:01.341294",
     "exception": false,
     "start_time": "2022-06-06T16:18:00.895026",
     "status": "completed"
    },
    "tags": []
   },
   "outputs": [
    {
     "data": {
      "text/plain": [
       "(0.0, 1.0)"
      ]
     },
     "execution_count": 10,
     "metadata": {},
     "output_type": "execute_result"
    },
    {
     "data": {
      "image/png": "[encoded data removed]",
      "text/plain": [
       "<Figure size 720x720 with 1 Axes>"
      ]
     },
     "metadata": {
      "needs_background": "light"
     },
     "output_type": "display_data"
    }
   ],
   "source": [
    "plt.figure(figsize=(10,10))\n",
    "sns.barplot(x=percent_nan,y=percent_nan.index)\n",
    "plt.xlim(0,1)"
   ]
  },
  {
   "cell_type": "code",
   "execution_count": 11,
   "id": "f8e12fb9",
   "metadata": {
    "execution": {
     "iopub.execute_input": "2022-06-06T16:18:01.373667Z",
     "iopub.status.busy": "2022-06-06T16:18:01.373146Z",
     "iopub.status.idle": "2022-06-06T16:18:01.385418Z",
     "shell.execute_reply": "2022-06-06T16:18:01.384485Z"
    },
    "papermill": {
     "duration": 0.031428,
     "end_time": "2022-06-06T16:18:01.387652",
     "exception": false,
     "start_time": "2022-06-06T16:18:01.356224",
     "status": "completed"
    },
    "tags": []
   },
   "outputs": [],
   "source": [
    "drop_features = ['Alley', 'PoolQC', 'Fence', 'MiscFeature', 'FireplaceQu']\n",
    "df = df.drop(drop_features, axis=1)"
   ]
  },
  {
   "cell_type": "code",
   "execution_count": 12,
   "id": "95f9330d",
   "metadata": {
    "execution": {
     "iopub.execute_input": "2022-06-06T16:18:01.418855Z",
     "iopub.status.busy": "2022-06-06T16:18:01.417667Z",
     "iopub.status.idle": "2022-06-06T16:18:01.439021Z",
     "shell.execute_reply": "2022-06-06T16:18:01.437843Z"
    },
    "papermill": {
     "duration": 0.039468,
     "end_time": "2022-06-06T16:18:01.441393",
     "exception": false,
     "start_time": "2022-06-06T16:18:01.401925",
     "status": "completed"
    },
    "tags": []
   },
   "outputs": [],
   "source": [
    "percent_nan = percent_missing(df)"
   ]
  },
  {
   "cell_type": "code",
   "execution_count": 13,
   "id": "5a086df2",
   "metadata": {
    "execution": {
     "iopub.execute_input": "2022-06-06T16:18:01.472761Z",
     "iopub.status.busy": "2022-06-06T16:18:01.471963Z",
     "iopub.status.idle": "2022-06-06T16:18:01.886359Z",
     "shell.execute_reply": "2022-06-06T16:18:01.885089Z"
    },
    "papermill": {
     "duration": 0.43303,
     "end_time": "2022-06-06T16:18:01.888691",
     "exception": false,
     "start_time": "2022-06-06T16:18:01.455661",
     "status": "completed"
    },
    "tags": []
   },
   "outputs": [
    {
     "data": {
      "text/plain": [
       "(0.0, 1.0)"
      ]
     },
     "execution_count": 13,
     "metadata": {},
     "output_type": "execute_result"
    },
    {
     "data": {
      "image/png": "[encoded data removed]",
      "text/plain": [
       "<Figure size 720x720 with 1 Axes>"
      ]
     },
     "metadata": {
      "needs_background": "light"
     },
     "output_type": "display_data"
    }
   ],
   "source": [
    "plt.figure(figsize=(10,10))\n",
    "sns.barplot(x=percent_nan,y=percent_nan.index)\n",
    "plt.xlim(0,1)"
   ]
  },
  {
   "cell_type": "code",
   "execution_count": 14,
   "id": "9caf60cc",
   "metadata": {
    "execution": {
     "iopub.execute_input": "2022-06-06T16:18:01.921166Z",
     "iopub.status.busy": "2022-06-06T16:18:01.920676Z",
     "iopub.status.idle": "2022-06-06T16:18:01.964475Z",
     "shell.execute_reply": "2022-06-06T16:18:01.963318Z"
    },
    "papermill": {
     "duration": 0.063367,
     "end_time": "2022-06-06T16:18:01.967107",
     "exception": false,
     "start_time": "2022-06-06T16:18:01.903740",
     "status": "completed"
    },
    "tags": []
   },
   "outputs": [],
   "source": [
    "empty_features = []\n",
    "\n",
    "for col in df.columns:\n",
    "    if df[col].isnull().nunique() == 2:\n",
    "        empty_features.append(col)\n",
    "\n",
    "empty_features = [x for x in empty_features if x not in drop_features]\n",
    "empty_features.remove('SalePrice')\n",
    "\n"
   ]
  },
  {
   "cell_type": "code",
   "execution_count": 15,
   "id": "063d8ccb",
   "metadata": {
    "execution": {
     "iopub.execute_input": "2022-06-06T16:18:01.999290Z",
     "iopub.status.busy": "2022-06-06T16:18:01.998034Z",
     "iopub.status.idle": "2022-06-06T16:18:02.055832Z",
     "shell.execute_reply": "2022-06-06T16:18:02.054428Z"
    },
    "papermill": {
     "duration": 0.076358,
     "end_time": "2022-06-06T16:18:02.058320",
     "exception": false,
     "start_time": "2022-06-06T16:18:01.981962",
     "status": "completed"
    },
    "tags": []
   },
   "outputs": [
    {
     "data": {
      "text/plain": [
       "LotFrontage     486\n",
       "MasVnrType       24\n",
       "MasVnrArea       23\n",
       "BsmtQual         81\n",
       "BsmtCond         82\n",
       "BsmtExposure     82\n",
       "BsmtFinType1     79\n",
       "BsmtFinType2     80\n",
       "GarageType      157\n",
       "GarageYrBlt     159\n",
       "GarageFinish    159\n",
       "GarageQual      159\n",
       "GarageCond      159\n",
       "dtype: int64"
      ]
     },
     "execution_count": 15,
     "metadata": {},
     "output_type": "execute_result"
    }
   ],
   "source": [
    "removed_features = []\n",
    "for feature in empty_features:\n",
    "    if df[feature].isnull().sum() <= 5:\n",
    "        df[feature] = df[feature].fillna(value=df[feature].mode()[0])\n",
    "        removed_features.append(feature)\n",
    "\n",
    "empty_features = [x for x in empty_features if x not in removed_features]\n",
    "df[empty_features].isnull().sum()"
   ]
  },
  {
   "cell_type": "code",
   "execution_count": 16,
   "id": "d36dbb9b",
   "metadata": {
    "execution": {
     "iopub.execute_input": "2022-06-06T16:18:02.092741Z",
     "iopub.status.busy": "2022-06-06T16:18:02.092309Z",
     "iopub.status.idle": "2022-06-06T16:18:03.087407Z",
     "shell.execute_reply": "2022-06-06T16:18:03.086184Z"
    },
    "papermill": {
     "duration": 1.014974,
     "end_time": "2022-06-06T16:18:03.089820",
     "exception": false,
     "start_time": "2022-06-06T16:18:02.074846",
     "status": "completed"
    },
    "tags": []
   },
   "outputs": [
    {
     "data": {
      "image/png": "[encoded data removed]",
      "text/plain": [
       "<Figure size 432x288 with 2 Axes>"
      ]
     },
     "metadata": {
      "needs_background": "light"
     },
     "output_type": "display_data"
    }
   ],
   "source": [
    "sns.heatmap(df[empty_features].isnull().corr(), annot=True);"
   ]
  },
  {
   "cell_type": "code",
   "execution_count": 17,
   "id": "82cf5bd7",
   "metadata": {
    "execution": {
     "iopub.execute_input": "2022-06-06T16:18:03.124930Z",
     "iopub.status.busy": "2022-06-06T16:18:03.123808Z",
     "iopub.status.idle": "2022-06-06T16:18:03.145134Z",
     "shell.execute_reply": "2022-06-06T16:18:03.144042Z"
    },
    "papermill": {
     "duration": 0.041976,
     "end_time": "2022-06-06T16:18:03.147822",
     "exception": false,
     "start_time": "2022-06-06T16:18:03.105846",
     "status": "completed"
    },
    "tags": []
   },
   "outputs": [],
   "source": [
    "df['LotFrontage'] = df.groupby('Neighborhood')['LotFrontage'].transform(lambda val: val.fillna(val.mean()))\n",
    "df['GarageYrBlt'] = df['GarageYrBlt'].fillna(value=df['GarageYrBlt'].mean())"
   ]
  },
  {
   "cell_type": "code",
   "execution_count": 18,
   "id": "cef9e4d4",
   "metadata": {
    "execution": {
     "iopub.execute_input": "2022-06-06T16:18:03.181562Z",
     "iopub.status.busy": "2022-06-06T16:18:03.181107Z",
     "iopub.status.idle": "2022-06-06T16:18:03.187348Z",
     "shell.execute_reply": "2022-06-06T16:18:03.186459Z"
    },
    "papermill": {
     "duration": 0.025435,
     "end_time": "2022-06-06T16:18:03.189216",
     "exception": false,
     "start_time": "2022-06-06T16:18:03.163781",
     "status": "completed"
    },
    "tags": []
   },
   "outputs": [],
   "source": [
    "df['MasVnrArea'] = df['MasVnrArea'].fillna(value=0)"
   ]
  },
  {
   "cell_type": "code",
   "execution_count": 19,
   "id": "403b6c2a",
   "metadata": {
    "execution": {
     "iopub.execute_input": "2022-06-06T16:18:03.223542Z",
     "iopub.status.busy": "2022-06-06T16:18:03.222335Z",
     "iopub.status.idle": "2022-06-06T16:18:03.235717Z",
     "shell.execute_reply": "2022-06-06T16:18:03.234781Z"
    },
    "papermill": {
     "duration": 0.033019,
     "end_time": "2022-06-06T16:18:03.238114",
     "exception": false,
     "start_time": "2022-06-06T16:18:03.205095",
     "status": "completed"
    },
    "tags": []
   },
   "outputs": [],
   "source": [
    "to_none = ['MasVnrType', 'BsmtQual', 'BsmtCond', 'BsmtExposure', 'BsmtFinType1', 'BsmtFinType2', 'GarageType', 'GarageFinish', 'GarageQual', 'GarageCond']\n",
    "\n",
    "for feature in to_none:\n",
    "    df[feature] = df[feature].fillna(value='None')"
   ]
  },
  {
   "cell_type": "code",
   "execution_count": 20,
   "id": "25895575",
   "metadata": {
    "execution": {
     "iopub.execute_input": "2022-06-06T16:18:03.272773Z",
     "iopub.status.busy": "2022-06-06T16:18:03.271987Z",
     "iopub.status.idle": "2022-06-06T16:18:03.292257Z",
     "shell.execute_reply": "2022-06-06T16:18:03.290767Z"
    },
    "papermill": {
     "duration": 0.041008,
     "end_time": "2022-06-06T16:18:03.294725",
     "exception": false,
     "start_time": "2022-06-06T16:18:03.253717",
     "status": "completed"
    },
    "tags": []
   },
   "outputs": [],
   "source": [
    "percent_nan = percent_missing(df)"
   ]
  },
  {
   "cell_type": "code",
   "execution_count": 21,
   "id": "edacfa8b",
   "metadata": {
    "execution": {
     "iopub.execute_input": "2022-06-06T16:18:03.329499Z",
     "iopub.status.busy": "2022-06-06T16:18:03.328975Z",
     "iopub.status.idle": "2022-06-06T16:18:03.503895Z",
     "shell.execute_reply": "2022-06-06T16:18:03.502689Z"
    },
    "papermill": {
     "duration": 0.196187,
     "end_time": "2022-06-06T16:18:03.506787",
     "exception": false,
     "start_time": "2022-06-06T16:18:03.310600",
     "status": "completed"
    },
    "tags": []
   },
   "outputs": [
    {
     "data": {
      "text/plain": [
       "<AxesSubplot:>"
      ]
     },
     "execution_count": 21,
     "metadata": {},
     "output_type": "execute_result"
    },
    {
     "data": {
      "image/png": "[encoded data removed]",
      "text/plain": [
       "<Figure size 720x720 with 1 Axes>"
      ]
     },
     "metadata": {
      "needs_background": "light"
     },
     "output_type": "display_data"
    }
   ],
   "source": [
    "plt.figure(figsize=(10,10))\n",
    "sns.barplot(x=percent_nan,y=percent_nan.index)"
   ]
  },
  {
   "cell_type": "code",
   "execution_count": 22,
   "id": "3b3c2c48",
   "metadata": {
    "execution": {
     "iopub.execute_input": "2022-06-06T16:18:03.543848Z",
     "iopub.status.busy": "2022-06-06T16:18:03.542532Z",
     "iopub.status.idle": "2022-06-06T16:18:03.548187Z",
     "shell.execute_reply": "2022-06-06T16:18:03.547321Z"
    },
    "papermill": {
     "duration": 0.026427,
     "end_time": "2022-06-06T16:18:03.550274",
     "exception": false,
     "start_time": "2022-06-06T16:18:03.523847",
     "status": "completed"
    },
    "tags": []
   },
   "outputs": [],
   "source": [
    "#Looks like all null values are now filled in"
   ]
  },
  {
   "cell_type": "code",
   "execution_count": 23,
   "id": "da521492",
   "metadata": {
    "execution": {
     "iopub.execute_input": "2022-06-06T16:18:03.585585Z",
     "iopub.status.busy": "2022-06-06T16:18:03.584806Z",
     "iopub.status.idle": "2022-06-06T16:18:03.592561Z",
     "shell.execute_reply": "2022-06-06T16:18:03.591540Z"
    },
    "papermill": {
     "duration": 0.027977,
     "end_time": "2022-06-06T16:18:03.594733",
     "exception": false,
     "start_time": "2022-06-06T16:18:03.566756",
     "status": "completed"
    },
    "tags": []
   },
   "outputs": [],
   "source": [
    "df['MSSubClass'] = df['MSSubClass'].apply(str)"
   ]
  },
  {
   "cell_type": "code",
   "execution_count": 24,
   "id": "2a815aff",
   "metadata": {
    "execution": {
     "iopub.execute_input": "2022-06-06T16:18:03.630248Z",
     "iopub.status.busy": "2022-06-06T16:18:03.629248Z",
     "iopub.status.idle": "2022-06-06T16:18:03.640664Z",
     "shell.execute_reply": "2022-06-06T16:18:03.639879Z"
    },
    "papermill": {
     "duration": 0.031964,
     "end_time": "2022-06-06T16:18:03.643161",
     "exception": false,
     "start_time": "2022-06-06T16:18:03.611197",
     "status": "completed"
    },
    "tags": []
   },
   "outputs": [],
   "source": [
    "df_nums = df.select_dtypes(exclude='object')\n",
    "df_objs = df.select_dtypes(include='object')"
   ]
  },
  {
   "cell_type": "code",
   "execution_count": 25,
   "id": "7d220c6f",
   "metadata": {
    "execution": {
     "iopub.execute_input": "2022-06-06T16:18:03.678222Z",
     "iopub.status.busy": "2022-06-06T16:18:03.677595Z",
     "iopub.status.idle": "2022-06-06T16:18:03.697898Z",
     "shell.execute_reply": "2022-06-06T16:18:03.696754Z"
    },
    "papermill": {
     "duration": 0.041783,
     "end_time": "2022-06-06T16:18:03.701142",
     "exception": false,
     "start_time": "2022-06-06T16:18:03.659359",
     "status": "completed"
    },
    "tags": []
   },
   "outputs": [
    {
     "name": "stdout",
     "output_type": "stream",
     "text": [
      "<class 'pandas.core.frame.DataFrame'>\n",
      "Int64Index: 2919 entries, 1 to 2919\n",
      "Data columns (total 36 columns):\n",
      " #   Column         Non-Null Count  Dtype  \n",
      "---  ------         --------------  -----  \n",
      " 0   LotFrontage    2919 non-null   float64\n",
      " 1   LotArea        2919 non-null   int64  \n",
      " 2   OverallQual    2919 non-null   int64  \n",
      " 3   OverallCond    2919 non-null   int64  \n",
      " 4   YearBuilt      2919 non-null   int64  \n",
      " 5   YearRemodAdd   2919 non-null   int64  \n",
      " 6   MasVnrArea     2919 non-null   float64\n",
      " 7   BsmtFinSF1     2919 non-null   float64\n",
      " 8   BsmtFinSF2     2919 non-null   float64\n",
      " 9   BsmtUnfSF      2919 non-null   float64\n",
      " 10  TotalBsmtSF    2919 non-null   float64\n",
      " 11  1stFlrSF       2919 non-null   int64  \n",
      " 12  2ndFlrSF       2919 non-null   int64  \n",
      " 13  LowQualFinSF   2919 non-null   int64  \n",
      " 14  GrLivArea      2919 non-null   int64  \n",
      " 15  BsmtFullBath   2919 non-null   float64\n",
      " 16  BsmtHalfBath   2919 non-null   float64\n",
      " 17  FullBath       2919 non-null   int64  \n",
      " 18  HalfBath       2919 non-null   int64  \n",
      " 19  BedroomAbvGr   2919 non-null   int64  \n",
      " 20  KitchenAbvGr   2919 non-null   int64  \n",
      " 21  TotRmsAbvGrd   2919 non-null   int64  \n",
      " 22  Fireplaces     2919 non-null   int64  \n",
      " 23  GarageYrBlt    2919 non-null   float64\n",
      " 24  GarageCars     2919 non-null   float64\n",
      " 25  GarageArea     2919 non-null   float64\n",
      " 26  WoodDeckSF     2919 non-null   int64  \n",
      " 27  OpenPorchSF    2919 non-null   int64  \n",
      " 28  EnclosedPorch  2919 non-null   int64  \n",
      " 29  3SsnPorch      2919 non-null   int64  \n",
      " 30  ScreenPorch    2919 non-null   int64  \n",
      " 31  PoolArea       2919 non-null   int64  \n",
      " 32  MiscVal        2919 non-null   int64  \n",
      " 33  MoSold         2919 non-null   int64  \n",
      " 34  YrSold         2919 non-null   int64  \n",
      " 35  SalePrice      1460 non-null   float64\n",
      "dtypes: float64(12), int64(24)\n",
      "memory usage: 843.8 KB\n"
     ]
    }
   ],
   "source": [
    "df_nums.info()"
   ]
  },
  {
   "cell_type": "code",
   "execution_count": 26,
   "id": "b88411ee",
   "metadata": {
    "execution": {
     "iopub.execute_input": "2022-06-06T16:18:03.739487Z",
     "iopub.status.busy": "2022-06-06T16:18:03.738799Z",
     "iopub.status.idle": "2022-06-06T16:18:03.767134Z",
     "shell.execute_reply": "2022-06-06T16:18:03.765550Z"
    },
    "papermill": {
     "duration": 0.050009,
     "end_time": "2022-06-06T16:18:03.769944",
     "exception": false,
     "start_time": "2022-06-06T16:18:03.719935",
     "status": "completed"
    },
    "tags": []
   },
   "outputs": [
    {
     "name": "stdout",
     "output_type": "stream",
     "text": [
      "<class 'pandas.core.frame.DataFrame'>\n",
      "Int64Index: 2919 entries, 1 to 2919\n",
      "Data columns (total 39 columns):\n",
      " #   Column         Non-Null Count  Dtype \n",
      "---  ------         --------------  ----- \n",
      " 0   MSSubClass     2919 non-null   object\n",
      " 1   MSZoning       2919 non-null   object\n",
      " 2   Street         2919 non-null   object\n",
      " 3   LotShape       2919 non-null   object\n",
      " 4   LandContour    2919 non-null   object\n",
      " 5   Utilities      2919 non-null   object\n",
      " 6   LotConfig      2919 non-null   object\n",
      " 7   LandSlope      2919 non-null   object\n",
      " 8   Neighborhood   2919 non-null   object\n",
      " 9   Condition1     2919 non-null   object\n",
      " 10  Condition2     2919 non-null   object\n",
      " 11  BldgType       2919 non-null   object\n",
      " 12  HouseStyle     2919 non-null   object\n",
      " 13  RoofStyle      2919 non-null   object\n",
      " 14  RoofMatl       2919 non-null   object\n",
      " 15  Exterior1st    2919 non-null   object\n",
      " 16  Exterior2nd    2919 non-null   object\n",
      " 17  MasVnrType     2919 non-null   object\n",
      " 18  ExterQual      2919 non-null   object\n",
      " 19  ExterCond      2919 non-null   object\n",
      " 20  Foundation     2919 non-null   object\n",
      " 21  BsmtQual       2919 non-null   object\n",
      " 22  BsmtCond       2919 non-null   object\n",
      " 23  BsmtExposure   2919 non-null   object\n",
      " 24  BsmtFinType1   2919 non-null   object\n",
      " 25  BsmtFinType2   2919 non-null   object\n",
      " 26  Heating        2919 non-null   object\n",
      " 27  HeatingQC      2919 non-null   object\n",
      " 28  CentralAir     2919 non-null   object\n",
      " 29  Electrical     2919 non-null   object\n",
      " 30  KitchenQual    2919 non-null   object\n",
      " 31  Functional     2919 non-null   object\n",
      " 32  GarageType     2919 non-null   object\n",
      " 33  GarageFinish   2919 non-null   object\n",
      " 34  GarageQual     2919 non-null   object\n",
      " 35  GarageCond     2919 non-null   object\n",
      " 36  PavedDrive     2919 non-null   object\n",
      " 37  SaleType       2919 non-null   object\n",
      " 38  SaleCondition  2919 non-null   object\n",
      "dtypes: object(39)\n",
      "memory usage: 912.2+ KB\n"
     ]
    }
   ],
   "source": [
    "df_objs.info()"
   ]
  },
  {
   "cell_type": "code",
   "execution_count": 27,
   "id": "9bbfc1cd",
   "metadata": {
    "execution": {
     "iopub.execute_input": "2022-06-06T16:18:03.805992Z",
     "iopub.status.busy": "2022-06-06T16:18:03.805157Z",
     "iopub.status.idle": "2022-06-06T16:18:03.857487Z",
     "shell.execute_reply": "2022-06-06T16:18:03.856330Z"
    },
    "papermill": {
     "duration": 0.073556,
     "end_time": "2022-06-06T16:18:03.860110",
     "exception": false,
     "start_time": "2022-06-06T16:18:03.786554",
     "status": "completed"
    },
    "tags": []
   },
   "outputs": [],
   "source": [
    "df_objs = pd.get_dummies(df_objs,drop_first=True)"
   ]
  },
  {
   "cell_type": "code",
   "execution_count": 28,
   "id": "b8ab7318",
   "metadata": {
    "execution": {
     "iopub.execute_input": "2022-06-06T16:18:03.894678Z",
     "iopub.status.busy": "2022-06-06T16:18:03.894176Z",
     "iopub.status.idle": "2022-06-06T16:18:03.902536Z",
     "shell.execute_reply": "2022-06-06T16:18:03.901665Z"
    },
    "papermill": {
     "duration": 0.028656,
     "end_time": "2022-06-06T16:18:03.904915",
     "exception": false,
     "start_time": "2022-06-06T16:18:03.876259",
     "status": "completed"
    },
    "tags": []
   },
   "outputs": [],
   "source": [
    "final_df = pd.concat([df_nums,df_objs],axis=1)"
   ]
  },
  {
   "cell_type": "code",
   "execution_count": 29,
   "id": "f7036e81",
   "metadata": {
    "execution": {
     "iopub.execute_input": "2022-06-06T16:18:03.940350Z",
     "iopub.status.busy": "2022-06-06T16:18:03.939631Z",
     "iopub.status.idle": "2022-06-06T16:18:03.963967Z",
     "shell.execute_reply": "2022-06-06T16:18:03.962881Z"
    },
    "papermill": {
     "duration": 0.04557,
     "end_time": "2022-06-06T16:18:03.966810",
     "exception": false,
     "start_time": "2022-06-06T16:18:03.921240",
     "status": "completed"
    },
    "tags": []
   },
   "outputs": [
    {
     "name": "stdout",
     "output_type": "stream",
     "text": [
      "<class 'pandas.core.frame.DataFrame'>\n",
      "Int64Index: 2919 entries, 1 to 2919\n",
      "Columns: 256 entries, LotFrontage to SaleCondition_Partial\n",
      "dtypes: float64(12), int64(24), uint8(220)\n",
      "memory usage: 1.4 MB\n"
     ]
    }
   ],
   "source": [
    "final_df.info()"
   ]
  },
  {
   "cell_type": "code",
   "execution_count": 30,
   "id": "fd2019ea",
   "metadata": {
    "execution": {
     "iopub.execute_input": "2022-06-06T16:18:04.002881Z",
     "iopub.status.busy": "2022-06-06T16:18:04.002204Z",
     "iopub.status.idle": "2022-06-06T16:18:04.009038Z",
     "shell.execute_reply": "2022-06-06T16:18:04.007754Z"
    },
    "papermill": {
     "duration": 0.028525,
     "end_time": "2022-06-06T16:18:04.011696",
     "exception": false,
     "start_time": "2022-06-06T16:18:03.983171",
     "status": "completed"
    },
    "tags": []
   },
   "outputs": [],
   "source": [
    "df_train =final_df.iloc[:1460] \n",
    "df_test = final_df.iloc[1460:]"
   ]
  },
  {
   "cell_type": "code",
   "execution_count": 31,
   "id": "7f98f354",
   "metadata": {
    "execution": {
     "iopub.execute_input": "2022-06-06T16:18:04.047879Z",
     "iopub.status.busy": "2022-06-06T16:18:04.046195Z",
     "iopub.status.idle": "2022-06-06T16:18:04.059846Z",
     "shell.execute_reply": "2022-06-06T16:18:04.058708Z"
    },
    "papermill": {
     "duration": 0.034351,
     "end_time": "2022-06-06T16:18:04.062887",
     "exception": false,
     "start_time": "2022-06-06T16:18:04.028536",
     "status": "completed"
    },
    "tags": []
   },
   "outputs": [],
   "source": [
    "X_train = df_train.drop('SalePrice',axis =1 )\n",
    "y_train = df_train['SalePrice']\n",
    "X_test = df_test.drop('SalePrice',axis = 1)"
   ]
  },
  {
   "cell_type": "code",
   "execution_count": 32,
   "id": "1dce3f53",
   "metadata": {
    "execution": {
     "iopub.execute_input": "2022-06-06T16:18:04.099824Z",
     "iopub.status.busy": "2022-06-06T16:18:04.099125Z",
     "iopub.status.idle": "2022-06-06T16:18:04.279064Z",
     "shell.execute_reply": "2022-06-06T16:18:04.278173Z"
    },
    "papermill": {
     "duration": 0.201308,
     "end_time": "2022-06-06T16:18:04.281742",
     "exception": false,
     "start_time": "2022-06-06T16:18:04.080434",
     "status": "completed"
    },
    "tags": []
   },
   "outputs": [],
   "source": [
    "from sklearn.preprocessing import StandardScaler\n",
    "scaler = StandardScaler()"
   ]
  },
  {
   "cell_type": "code",
   "execution_count": 33,
   "id": "956a2f20",
   "metadata": {
    "execution": {
     "iopub.execute_input": "2022-06-06T16:18:04.318284Z",
     "iopub.status.busy": "2022-06-06T16:18:04.317814Z",
     "iopub.status.idle": "2022-06-06T16:18:04.345897Z",
     "shell.execute_reply": "2022-06-06T16:18:04.344705Z"
    },
    "papermill": {
     "duration": 0.0496,
     "end_time": "2022-06-06T16:18:04.348719",
     "exception": false,
     "start_time": "2022-06-06T16:18:04.299119",
     "status": "completed"
    },
    "tags": []
   },
   "outputs": [],
   "source": [
    "scaled_X_train = scaler.fit_transform(X_train)"
   ]
  },
  {
   "cell_type": "code",
   "execution_count": 34,
   "id": "139ac0f6",
   "metadata": {
    "execution": {
     "iopub.execute_input": "2022-06-06T16:18:04.384338Z",
     "iopub.status.busy": "2022-06-06T16:18:04.383904Z",
     "iopub.status.idle": "2022-06-06T16:18:04.397105Z",
     "shell.execute_reply": "2022-06-06T16:18:04.396253Z"
    },
    "papermill": {
     "duration": 0.034143,
     "end_time": "2022-06-06T16:18:04.399656",
     "exception": false,
     "start_time": "2022-06-06T16:18:04.365513",
     "status": "completed"
    },
    "tags": []
   },
   "outputs": [],
   "source": [
    "scaled_X_test = scaler.transform(X_test)"
   ]
  },
  {
   "cell_type": "code",
   "execution_count": 35,
   "id": "b894bf41",
   "metadata": {
    "execution": {
     "iopub.execute_input": "2022-06-06T16:18:04.437197Z",
     "iopub.status.busy": "2022-06-06T16:18:04.436551Z",
     "iopub.status.idle": "2022-06-06T16:18:04.776837Z",
     "shell.execute_reply": "2022-06-06T16:18:04.776015Z"
    },
    "papermill": {
     "duration": 0.361998,
     "end_time": "2022-06-06T16:18:04.779196",
     "exception": false,
     "start_time": "2022-06-06T16:18:04.417198",
     "status": "completed"
    },
    "tags": []
   },
   "outputs": [],
   "source": [
    "from sklearn.linear_model import ElasticNet\n",
    "base_elastic_model = ElasticNet(max_iter = 2000)"
   ]
  },
  {
   "cell_type": "code",
   "execution_count": 36,
   "id": "43465a61",
   "metadata": {
    "execution": {
     "iopub.execute_input": "2022-06-06T16:18:04.815669Z",
     "iopub.status.busy": "2022-06-06T16:18:04.815256Z",
     "iopub.status.idle": "2022-06-06T16:18:04.821040Z",
     "shell.execute_reply": "2022-06-06T16:18:04.819656Z"
    },
    "papermill": {
     "duration": 0.026147,
     "end_time": "2022-06-06T16:18:04.823175",
     "exception": false,
     "start_time": "2022-06-06T16:18:04.797028",
     "status": "completed"
    },
    "tags": []
   },
   "outputs": [],
   "source": [
    "param_grid = {'alpha':[0.1,1,5,10,50,100],\n",
    "              'l1_ratio':[.1, .5, .7, .9, .95, .99, 1]}"
   ]
  },
  {
   "cell_type": "code",
   "execution_count": 37,
   "id": "e76b4c4a",
   "metadata": {
    "execution": {
     "iopub.execute_input": "2022-06-06T16:18:04.859335Z",
     "iopub.status.busy": "2022-06-06T16:18:04.858700Z",
     "iopub.status.idle": "2022-06-06T16:18:04.864201Z",
     "shell.execute_reply": "2022-06-06T16:18:04.863497Z"
    },
    "papermill": {
     "duration": 0.026113,
     "end_time": "2022-06-06T16:18:04.866302",
     "exception": false,
     "start_time": "2022-06-06T16:18:04.840189",
     "status": "completed"
    },
    "tags": []
   },
   "outputs": [],
   "source": [
    "from sklearn.model_selection import GridSearchCV\n",
    "grid_model = GridSearchCV(estimator=base_elastic_model,\n",
    "                          param_grid=param_grid,\n",
    "                          scoring='neg_mean_squared_error',\n",
    "                          cv=5,\n",
    "                          verbose=1)"
   ]
  },
  {
   "cell_type": "code",
   "execution_count": 38,
   "id": "25e894ee",
   "metadata": {
    "execution": {
     "iopub.execute_input": "2022-06-06T16:18:04.902241Z",
     "iopub.status.busy": "2022-06-06T16:18:04.901574Z",
     "iopub.status.idle": "2022-06-06T16:18:42.487867Z",
     "shell.execute_reply": "2022-06-06T16:18:42.486881Z"
    },
    "papermill": {
     "duration": 37.639089,
     "end_time": "2022-06-06T16:18:42.521964",
     "exception": false,
     "start_time": "2022-06-06T16:18:04.882875",
     "status": "completed"
    },
    "tags": []
   },
   "outputs": [
    {
     "name": "stdout",
     "output_type": "stream",
     "text": [
      "Fitting 5 folds for each of 42 candidates, totalling 210 fits\n"
     ]
    },
    {
     "data": {
      "text/plain": [
       "GridSearchCV(cv=5, estimator=ElasticNet(max_iter=2000),\n",
       "             param_grid={'alpha': [0.1, 1, 5, 10, 50, 100],\n",
       "                         'l1_ratio': [0.1, 0.5, 0.7, 0.9, 0.95, 0.99, 1]},\n",
       "             scoring='neg_mean_squared_error', verbose=1)"
      ]
     },
     "execution_count": 38,
     "metadata": {},
     "output_type": "execute_result"
    }
   ],
   "source": [
    "grid_model.fit(scaled_X_train,y_train)"
   ]
  },
  {
   "cell_type": "code",
   "execution_count": null,
   "id": "05139f30",
   "metadata": {
    "papermill": {
     "duration": 0.031068,
     "end_time": "2022-06-06T16:18:42.585934",
     "exception": false,
     "start_time": "2022-06-06T16:18:42.554866",
     "status": "completed"
    },
    "tags": []
   },
   "outputs": [],
   "source": []
  },
  {
   "cell_type": "code",
   "execution_count": 39,
   "id": "9f9eaf15",
   "metadata": {
    "execution": {
     "iopub.execute_input": "2022-06-06T16:18:42.627929Z",
     "iopub.status.busy": "2022-06-06T16:18:42.627489Z",
     "iopub.status.idle": "2022-06-06T16:18:42.633903Z",
     "shell.execute_reply": "2022-06-06T16:18:42.632679Z"
    },
    "papermill": {
     "duration": 0.030759,
     "end_time": "2022-06-06T16:18:42.639898",
     "exception": false,
     "start_time": "2022-06-06T16:18:42.609139",
     "status": "completed"
    },
    "tags": []
   },
   "outputs": [],
   "source": [
    "predictions = grid_model.predict(scaled_X_test)"
   ]
  },
  {
   "cell_type": "code",
   "execution_count": 40,
   "id": "ee6a3a0b",
   "metadata": {
    "execution": {
     "iopub.execute_input": "2022-06-06T16:18:42.706889Z",
     "iopub.status.busy": "2022-06-06T16:18:42.705120Z",
     "iopub.status.idle": "2022-06-06T16:18:42.757795Z",
     "shell.execute_reply": "2022-06-06T16:18:42.756473Z"
    },
    "papermill": {
     "duration": 0.090615,
     "end_time": "2022-06-06T16:18:42.761654",
     "exception": false,
     "start_time": "2022-06-06T16:18:42.671039",
     "status": "completed"
    },
    "tags": []
   },
   "outputs": [],
   "source": [
    "df_for_id = pd.read_csv('../input/house-prices-advanced-regression-techniques/test.csv')"
   ]
  },
  {
   "cell_type": "code",
   "execution_count": 41,
   "id": "f755cd78",
   "metadata": {
    "execution": {
     "iopub.execute_input": "2022-06-06T16:18:42.798900Z",
     "iopub.status.busy": "2022-06-06T16:18:42.798409Z",
     "iopub.status.idle": "2022-06-06T16:18:42.805400Z",
     "shell.execute_reply": "2022-06-06T16:18:42.804028Z"
    },
    "papermill": {
     "duration": 0.028265,
     "end_time": "2022-06-06T16:18:42.807806",
     "exception": false,
     "start_time": "2022-06-06T16:18:42.779541",
     "status": "completed"
    },
    "tags": []
   },
   "outputs": [],
   "source": [
    "submission = pd.DataFrame({'Id':df_for_id['Id'],'SalePrice':predictions})"
   ]
  },
  {
   "cell_type": "code",
   "execution_count": 42,
   "id": "e47c05c7",
   "metadata": {
    "execution": {
     "iopub.execute_input": "2022-06-06T16:18:42.844817Z",
     "iopub.status.busy": "2022-06-06T16:18:42.843907Z",
     "iopub.status.idle": "2022-06-06T16:18:42.857956Z",
     "shell.execute_reply": "2022-06-06T16:18:42.857067Z"
    },
    "papermill": {
     "duration": 0.035588,
     "end_time": "2022-06-06T16:18:42.860489",
     "exception": false,
     "start_time": "2022-06-06T16:18:42.824901",
     "status": "completed"
    },
    "tags": []
   },
   "outputs": [],
   "source": [
    "submission.to_csv('submission.csv',index = False)"
   ]
  },
  {
   "cell_type": "code",
   "execution_count": null,
   "id": "dcdfb26e",
   "metadata": {
    "papermill": {
     "duration": 0.016543,
     "end_time": "2022-06-06T16:18:42.893965",
     "exception": false,
     "start_time": "2022-06-06T16:18:42.877422",
     "status": "completed"
    },
    "tags": []
   },
   "outputs": [],
   "source": []
  }
 ],
 "metadata": {
  "kernelspec": {
   "display_name": "Python 3",
   "language": "python",
   "name": "python3"
  },
  "language_info": {
   "codemirror_mode": {
    "name": "ipython",
    "version": 3
   },
   "file_extension": ".py",
   "mimetype": "text/x-python",
   "name": "python",
   "nbconvert_exporter": "python",
   "pygments_lexer": "ipython3",
   "version": "3.7.12"
  },
  "papermill": {
   "default_parameters": {},
   "duration": 57.998334,
   "end_time": "2022-06-06T16:18:44.037799",
   "environment_variables": {},
   "exception": null,
   "input_path": "__notebook__.ipynb",
   "output_path": "__notebook__.ipynb",
   "parameters": {},
   "start_time": "2022-06-06T16:17:46.039465",
   "version": "2.3.4"
  }
 },
 "nbformat": 4,
 "nbformat_minor": 5
}
